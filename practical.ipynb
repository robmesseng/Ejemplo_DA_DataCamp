{
 "cells": [
  {
   "cell_type": "code",
   "execution_count": 54,
   "metadata": {},
   "outputs": [],
   "source": [
    "import numpy as np\n",
    "import pandas as pd\n",
    "import matplotlib.pyplot as plt\n",
    "import seaborn as sns\n",
    "\n",
    "%matplotlib inline"
   ]
  },
  {
   "cell_type": "code",
   "execution_count": 55,
   "metadata": {},
   "outputs": [
    {
     "data": {
      "text/html": [
       "<div>\n",
       "<style scoped>\n",
       "    .dataframe tbody tr th:only-of-type {\n",
       "        vertical-align: middle;\n",
       "    }\n",
       "\n",
       "    .dataframe tbody tr th {\n",
       "        vertical-align: top;\n",
       "    }\n",
       "\n",
       "    .dataframe thead th {\n",
       "        text-align: right;\n",
       "    }\n",
       "</style>\n",
       "<table border=\"1\" class=\"dataframe\">\n",
       "  <thead>\n",
       "    <tr style=\"text-align: right;\">\n",
       "      <th></th>\n",
       "      <th>product_id</th>\n",
       "      <th>category</th>\n",
       "      <th>animal</th>\n",
       "      <th>size</th>\n",
       "      <th>price</th>\n",
       "      <th>sales</th>\n",
       "      <th>rating</th>\n",
       "      <th>repeat_purchase</th>\n",
       "    </tr>\n",
       "  </thead>\n",
       "  <tbody>\n",
       "    <tr>\n",
       "      <th>0</th>\n",
       "      <td>1</td>\n",
       "      <td>Food</td>\n",
       "      <td>Bird</td>\n",
       "      <td>large</td>\n",
       "      <td>51.1</td>\n",
       "      <td>1860.62</td>\n",
       "      <td>7.0</td>\n",
       "      <td>1</td>\n",
       "    </tr>\n",
       "    <tr>\n",
       "      <th>1</th>\n",
       "      <td>2</td>\n",
       "      <td>Housing</td>\n",
       "      <td>Bird</td>\n",
       "      <td>MEDIUM</td>\n",
       "      <td>35.98</td>\n",
       "      <td>963.60</td>\n",
       "      <td>6.0</td>\n",
       "      <td>0</td>\n",
       "    </tr>\n",
       "    <tr>\n",
       "      <th>2</th>\n",
       "      <td>3</td>\n",
       "      <td>Food</td>\n",
       "      <td>Dog</td>\n",
       "      <td>medium</td>\n",
       "      <td>31.23</td>\n",
       "      <td>898.30</td>\n",
       "      <td>5.0</td>\n",
       "      <td>1</td>\n",
       "    </tr>\n",
       "    <tr>\n",
       "      <th>3</th>\n",
       "      <td>4</td>\n",
       "      <td>Medicine</td>\n",
       "      <td>Cat</td>\n",
       "      <td>small</td>\n",
       "      <td>24.95</td>\n",
       "      <td>982.15</td>\n",
       "      <td>6.0</td>\n",
       "      <td>1</td>\n",
       "    </tr>\n",
       "    <tr>\n",
       "      <th>4</th>\n",
       "      <td>5</td>\n",
       "      <td>Housing</td>\n",
       "      <td>Cat</td>\n",
       "      <td>Small</td>\n",
       "      <td>26.18</td>\n",
       "      <td>832.63</td>\n",
       "      <td>7.0</td>\n",
       "      <td>1</td>\n",
       "    </tr>\n",
       "    <tr>\n",
       "      <th>...</th>\n",
       "      <td>...</td>\n",
       "      <td>...</td>\n",
       "      <td>...</td>\n",
       "      <td>...</td>\n",
       "      <td>...</td>\n",
       "      <td>...</td>\n",
       "      <td>...</td>\n",
       "      <td>...</td>\n",
       "    </tr>\n",
       "    <tr>\n",
       "      <th>1495</th>\n",
       "      <td>1496</td>\n",
       "      <td>Food</td>\n",
       "      <td>Bird</td>\n",
       "      <td>medium</td>\n",
       "      <td>40.91</td>\n",
       "      <td>1203.36</td>\n",
       "      <td>5.0</td>\n",
       "      <td>0</td>\n",
       "    </tr>\n",
       "    <tr>\n",
       "      <th>1496</th>\n",
       "      <td>1497</td>\n",
       "      <td>Equipment</td>\n",
       "      <td>Dog</td>\n",
       "      <td>small</td>\n",
       "      <td>32.89</td>\n",
       "      <td>1099.97</td>\n",
       "      <td>5.0</td>\n",
       "      <td>0</td>\n",
       "    </tr>\n",
       "    <tr>\n",
       "      <th>1497</th>\n",
       "      <td>1498</td>\n",
       "      <td>Food</td>\n",
       "      <td>Fish</td>\n",
       "      <td>Small</td>\n",
       "      <td>25.79</td>\n",
       "      <td>724.02</td>\n",
       "      <td>3.0</td>\n",
       "      <td>0</td>\n",
       "    </tr>\n",
       "    <tr>\n",
       "      <th>1498</th>\n",
       "      <td>1499</td>\n",
       "      <td>Medicine</td>\n",
       "      <td>Fish</td>\n",
       "      <td>small</td>\n",
       "      <td>19.94</td>\n",
       "      <td>658.66</td>\n",
       "      <td>5.0</td>\n",
       "      <td>1</td>\n",
       "    </tr>\n",
       "    <tr>\n",
       "      <th>1499</th>\n",
       "      <td>1500</td>\n",
       "      <td>Food</td>\n",
       "      <td>Cat</td>\n",
       "      <td>Medium</td>\n",
       "      <td>25.95</td>\n",
       "      <td>826.08</td>\n",
       "      <td>4.0</td>\n",
       "      <td>1</td>\n",
       "    </tr>\n",
       "  </tbody>\n",
       "</table>\n",
       "<p>1500 rows × 8 columns</p>\n",
       "</div>"
      ],
      "text/plain": [
       "      product_id   category animal    size  price    sales  rating  \\\n",
       "0              1       Food   Bird   large   51.1  1860.62     7.0   \n",
       "1              2    Housing   Bird  MEDIUM  35.98   963.60     6.0   \n",
       "2              3       Food    Dog  medium  31.23   898.30     5.0   \n",
       "3              4   Medicine    Cat   small  24.95   982.15     6.0   \n",
       "4              5    Housing    Cat   Small  26.18   832.63     7.0   \n",
       "...          ...        ...    ...     ...    ...      ...     ...   \n",
       "1495        1496       Food   Bird  medium  40.91  1203.36     5.0   \n",
       "1496        1497  Equipment    Dog   small  32.89  1099.97     5.0   \n",
       "1497        1498       Food   Fish   Small  25.79   724.02     3.0   \n",
       "1498        1499   Medicine   Fish   small  19.94   658.66     5.0   \n",
       "1499        1500       Food    Cat  Medium  25.95   826.08     4.0   \n",
       "\n",
       "      repeat_purchase  \n",
       "0                   1  \n",
       "1                   0  \n",
       "2                   1  \n",
       "3                   1  \n",
       "4                   1  \n",
       "...               ...  \n",
       "1495                0  \n",
       "1496                0  \n",
       "1497                0  \n",
       "1498                1  \n",
       "1499                1  \n",
       "\n",
       "[1500 rows x 8 columns]"
      ]
     },
     "execution_count": 55,
     "metadata": {},
     "output_type": "execute_result"
    }
   ],
   "source": [
    "# Cargando data en DataFrame\n",
    "\n",
    "pet_supplies = pd.read_csv('pet_supplies_2212.csv')\n",
    "pet_supplies #esto igual sirve como 'pet_supplies.shape' porque al final muestra filas x columnas"
   ]
  },
  {
   "cell_type": "markdown",
   "metadata": {},
   "source": [
    "Tenemos 1500 datos y 8 observaciones"
   ]
  },
  {
   "cell_type": "code",
   "execution_count": 56,
   "metadata": {},
   "outputs": [
    {
     "name": "stdout",
     "output_type": "stream",
     "text": [
      "<class 'pandas.core.frame.DataFrame'>\n",
      "RangeIndex: 1500 entries, 0 to 1499\n",
      "Data columns (total 8 columns):\n",
      " #   Column           Non-Null Count  Dtype  \n",
      "---  ------           --------------  -----  \n",
      " 0   product_id       1500 non-null   int64  \n",
      " 1   category         1500 non-null   object \n",
      " 2   animal           1500 non-null   object \n",
      " 3   size             1500 non-null   object \n",
      " 4   price            1500 non-null   object \n",
      " 5   sales            1500 non-null   float64\n",
      " 6   rating           1350 non-null   float64\n",
      " 7   repeat_purchase  1500 non-null   int64  \n",
      "dtypes: float64(2), int64(2), object(4)\n",
      "memory usage: 93.9+ KB\n"
     ]
    }
   ],
   "source": [
    "# Checking datatypes and missing values\n",
    "pet_supplies.info()"
   ]
  },
  {
   "cell_type": "markdown",
   "metadata": {},
   "source": [
    "Solo en la columna \"rating\" tenemos déficit de 150 datos"
   ]
  },
  {
   "cell_type": "markdown",
   "metadata": {},
   "source": [
    "Cambiaremos los valores en la columna 'size' a minúsculas"
   ]
  },
  {
   "cell_type": "code",
   "execution_count": 57,
   "metadata": {},
   "outputs": [
    {
     "data": {
      "text/html": [
       "<div>\n",
       "<style scoped>\n",
       "    .dataframe tbody tr th:only-of-type {\n",
       "        vertical-align: middle;\n",
       "    }\n",
       "\n",
       "    .dataframe tbody tr th {\n",
       "        vertical-align: top;\n",
       "    }\n",
       "\n",
       "    .dataframe thead th {\n",
       "        text-align: right;\n",
       "    }\n",
       "</style>\n",
       "<table border=\"1\" class=\"dataframe\">\n",
       "  <thead>\n",
       "    <tr style=\"text-align: right;\">\n",
       "      <th></th>\n",
       "      <th>product_id</th>\n",
       "      <th>category</th>\n",
       "      <th>animal</th>\n",
       "      <th>size</th>\n",
       "      <th>price</th>\n",
       "      <th>sales</th>\n",
       "      <th>rating</th>\n",
       "      <th>repeat_purchase</th>\n",
       "    </tr>\n",
       "  </thead>\n",
       "  <tbody>\n",
       "    <tr>\n",
       "      <th>0</th>\n",
       "      <td>1</td>\n",
       "      <td>Food</td>\n",
       "      <td>Bird</td>\n",
       "      <td>large</td>\n",
       "      <td>51.1</td>\n",
       "      <td>1860.62</td>\n",
       "      <td>7.0</td>\n",
       "      <td>1</td>\n",
       "    </tr>\n",
       "    <tr>\n",
       "      <th>1</th>\n",
       "      <td>2</td>\n",
       "      <td>Housing</td>\n",
       "      <td>Bird</td>\n",
       "      <td>medium</td>\n",
       "      <td>35.98</td>\n",
       "      <td>963.60</td>\n",
       "      <td>6.0</td>\n",
       "      <td>0</td>\n",
       "    </tr>\n",
       "    <tr>\n",
       "      <th>2</th>\n",
       "      <td>3</td>\n",
       "      <td>Food</td>\n",
       "      <td>Dog</td>\n",
       "      <td>medium</td>\n",
       "      <td>31.23</td>\n",
       "      <td>898.30</td>\n",
       "      <td>5.0</td>\n",
       "      <td>1</td>\n",
       "    </tr>\n",
       "    <tr>\n",
       "      <th>3</th>\n",
       "      <td>4</td>\n",
       "      <td>Medicine</td>\n",
       "      <td>Cat</td>\n",
       "      <td>small</td>\n",
       "      <td>24.95</td>\n",
       "      <td>982.15</td>\n",
       "      <td>6.0</td>\n",
       "      <td>1</td>\n",
       "    </tr>\n",
       "    <tr>\n",
       "      <th>4</th>\n",
       "      <td>5</td>\n",
       "      <td>Housing</td>\n",
       "      <td>Cat</td>\n",
       "      <td>small</td>\n",
       "      <td>26.18</td>\n",
       "      <td>832.63</td>\n",
       "      <td>7.0</td>\n",
       "      <td>1</td>\n",
       "    </tr>\n",
       "  </tbody>\n",
       "</table>\n",
       "</div>"
      ],
      "text/plain": [
       "   product_id  category animal    size  price    sales  rating  \\\n",
       "0           1      Food   Bird   large   51.1  1860.62     7.0   \n",
       "1           2   Housing   Bird  medium  35.98   963.60     6.0   \n",
       "2           3      Food    Dog  medium  31.23   898.30     5.0   \n",
       "3           4  Medicine    Cat   small  24.95   982.15     6.0   \n",
       "4           5   Housing    Cat   small  26.18   832.63     7.0   \n",
       "\n",
       "   repeat_purchase  \n",
       "0                1  \n",
       "1                0  \n",
       "2                1  \n",
       "3                1  \n",
       "4                1  "
      ]
     },
     "execution_count": 57,
     "metadata": {},
     "output_type": "execute_result"
    }
   ],
   "source": [
    "pet_supplies['size'] = pet_supplies['size'].str.lower()\n",
    "pet_supplies.head()\n"
   ]
  },
  {
   "cell_type": "markdown",
   "metadata": {},
   "source": [
    "Convertiremos los tipos de datos"
   ]
  },
  {
   "cell_type": "code",
   "execution_count": 58,
   "metadata": {},
   "outputs": [],
   "source": [
    "pet_supplies['product_id'] = pet_supplies['product_id'].astype(str)"
   ]
  },
  {
   "cell_type": "code",
   "execution_count": 59,
   "metadata": {},
   "outputs": [
    {
     "data": {
      "text/plain": [
       "array(['51.1', '35.98', '31.23', '24.95', '26.18', '30.77', '31.04',\n",
       "       '28.9', '17.82', '24.93', '40.87', '34.96', '31.07', '40.8',\n",
       "       '33.13', '43.09', '28.29', '43.91', '33.87', '44', 'unlisted',\n",
       "       '41', '32.98', '22.99', '38.99', '45.83', '28.24', '28.19',\n",
       "       '27.79', '38.86', '22.89', '26.07', '28.02', '23.99', '28.25',\n",
       "       '30.87', '28.09', '29.01', '26.13', '54.03', '31.2', '30.92',\n",
       "       '20.95', '17.98', '27.7', '24.8', '31.09', '19.83', '33.15',\n",
       "       '21.25', '38.06', '30.89', '35.04', '26.03', '33.94', '25.81',\n",
       "       '32.99', '17.9', '30.96', '40.93', '24.98', '26.08', '23.08', '26',\n",
       "       '22.95', '39.03', '23.19', '31', '21.05', '31.5', '24.7', '27.76',\n",
       "       '18.06', '28.43', '43.99', '41.03', '28.28', '25.96', '27.86',\n",
       "       '38.95', '36.22', '23.02', '21.14', '42.99', '27.95', '38', '28.2',\n",
       "       '39.16', '25.07', '15', '35.95', '30.03', '22.98', '27.97',\n",
       "       '28.74', '26.05', '45.99', '25.83', '22.75', '28.03', '29.02',\n",
       "       '26.32', '27.99', '34.18', '21.07', '25.97', '23.14', '42.85',\n",
       "       '34.08', '22.97', '24.24', '41.02', '41.04', '22.68', '24.83',\n",
       "       '27.77', '50.92', '41.01', '36.08', '21.12', '16.11', '29.99',\n",
       "       '34.17', '19.76', '30.86', '24.94', '51.18', '20.06', '27.93',\n",
       "       '26.24', '25.88', '28.17', '39.26', '28.07', '34.03', '41.08',\n",
       "       '25.05', '19.88', '50.99', '15.91', '20.79', '40.88', '26.3',\n",
       "       '22.86', '34.11', '34.02', '20.03', '26.67', '41.15', '33.1',\n",
       "       '28.31', '25.06', '27.98', '25.02', '27.65', '33.09', '28',\n",
       "       '23.01', '46.02', '45.94', '28.04', '38.87', '20.05', '19.86',\n",
       "       '35.99', '22.9', '48.91', '25.91', '33.03', '27.89', '35.97',\n",
       "       '23.16', '35.89', '25.84', '34.85', '22.94', '31.08', '25.16',\n",
       "       '50.84', '32.91', '27.74', '36.03', '30.75', '23.05', '24.05',\n",
       "       '27.96', '33.93', '23.28', '34.01', '16.23', '24.03', '19.87',\n",
       "       '21.02', '42.97', '38.32', '24.96', '23.07', '12.89', '25.09',\n",
       "       '32.96', '21.22', '28.33', '38.89', '35.87', '25.92', '18.08',\n",
       "       '28.92', '23.12', '27.87', '35.03', '22.93', '15.03', '43.9', '29',\n",
       "       '26.1', '41.11', '28.1', '27.82', '34', '50.9', '50.98', '29.19',\n",
       "       '54.05', '24.16', '43.92', '15.05', '26.06', '33.91', '30.97',\n",
       "       '33.97', '34.12', '22.92', '25.19', '30.85', '28.18', '30.82',\n",
       "       '28.42', '20.89', '27.91', '33.84', '34.53', '28.86', '41.14',\n",
       "       '30.99', '25.99', '39', '25.98', '27.84', '29.13', '19.84',\n",
       "       '24.85', '33.78', '27.78', '28.05', '30.73', '19.99', '28.11',\n",
       "       '46.16', '42.93', '34.88', '28.36', '33.99', '44.07', '31.22',\n",
       "       '46.11', '22.91', '33.11', '32.79', '27.81', '27.92', '28.97',\n",
       "       '18.12', '21.04', '27.9', '22.88', '20.21', '27.88', '35.76',\n",
       "       '25.76', '34.09', '35.11', '40.89', '28.15', '23.86', '23.11',\n",
       "       '33.14', '28.06', '28.85', '42.88', '21.36', '19.95', '34.24',\n",
       "       '41.13', '26.19', '26.44', '26.01', '27.94', '20.92', '31.16',\n",
       "       '22.87', '21.03', '50.91', '32.95', '36.04', '30.18', '38.84',\n",
       "       '45.78', '26.29', '20.87', '33.89', '31.19', '34.47', '43.95',\n",
       "       '40.99', '18.01', '24.06', '40.9', '24.02', '54.16', '34.1',\n",
       "       '42.82', '28.98', '43.12', '17.95', '42.92', '26.33', '25.17',\n",
       "       '45.06', '24.76', '20.09', '29.98', '19.98', '26.15', '53.97',\n",
       "       '43.04', '51.04', '28.3', '19.94', '26.22', '14.99', '38.98',\n",
       "       '23.09', '39.79', '43.03', '24.74', '15.95', '30.93', '27.83',\n",
       "       '30.81', '40.83', '40.91', '25.7', '31.03', '37.89', '36.01',\n",
       "       '16.17', '15.94', '40.97', '33.04', '26.2', '39.19', '19.97', '36',\n",
       "       '38.66', '23.95', '25.93', '25.29', '44.03', '25.9', '19.91',\n",
       "       '26.09', '19.89', '33.06', '22.69', '24.78', '29.09', '18.09',\n",
       "       '20.11', '36.09', '24.88', '34.28', '29.05', '49.02', '28.27',\n",
       "       '28.84', '14.94', '35.05', '28.89', '39.21', '41.12', '29.25',\n",
       "       '34.33', '30.94', '34.23', '29.16', '28.13', '32.97', '20.98',\n",
       "       '23.82', '23.33', '35.96', '33', '23', '28.91', '42.86', '43.01',\n",
       "       '25.85', '28.79', '25.2', '30.08', '34.25', '24.82', '40.96', '20',\n",
       "       '34.06', '15.99', '15.14', '36.05', '25.04', '15.16', '20.84',\n",
       "       '39.09', '31.15', '33.86', '30.74', '27.85', '31.27', '54.02',\n",
       "       '26.16', '35.92', '25.86', '36.07', '24.92', '18.14', '12.85',\n",
       "       '26.11', '19.78', '25.94', '39.07', '29.22', '24.9', '15.21', '25',\n",
       "       '14.96', '25.82', '28.93', '35.84', '30.84', '25.95', '43.13',\n",
       "       '36.12', '22.8', '36.02', '36.21', '34.93', '22.84', '24.86',\n",
       "       '23.03', '18.1', '29.11', '22.96', '17.99', '20.83', '29.86',\n",
       "       '18.22', '23.92', '45.98', '34.95', '25.72', '25.03', '20.13',\n",
       "       '21.01', '35.09', '39.24', '16.1', '34.05', '41.07', '16.02',\n",
       "       '36.16', '32.85', '34.94', '29.26', '27.71', '39.01', '23.18',\n",
       "       '22.7', '43.16', '41.1', '13.13', '34.29', '46.22', '16.12',\n",
       "       '31.06', '25.87', '30.9', '30.8', '27.69', '23.89', '40.92',\n",
       "       '25.46', '33.95', '28.14', '29.95', '23.13', '30.98', '20.02',\n",
       "       '24.91', '33.88', '16.16', '20.07', '14.89', '33.08', '25.1',\n",
       "       '19.93', '31.14', '21.21', '37.87', '28.12', '28.99', '16.03',\n",
       "       '20.99', '18.13', '34.07', '28.22', '30.12', '34.15', '28.08',\n",
       "       '25.78', '30.78', '31.11', '43.1', '20.04', '23.06', '34.21',\n",
       "       '41.32', '16.08', '43.97', '35.85', '23.9', '43.85', '33.92',\n",
       "       '38.79', '34.04', '20.26', '26.02', '30.02', '31.01', '16.19',\n",
       "       '51.05', '21.1', '35.88', '35.07', '38.77', '28.82', '28.95',\n",
       "       '40.81', '16.07', '31.12', '28.94', '20.91', '25.26', '20.15',\n",
       "       '20.82', '46.04', '29.24', '28.01', '26.12', '15.09', '22.81',\n",
       "       '39.38', '15.98', '21.19', '43.2', '33.85', '28.96', '28.88',\n",
       "       '43.05', '30.95', '26.14', '32.84', '33.2', '50.93', '23.1',\n",
       "       '35.78', '54.07', '15.06', '33.01', '40.85', '22.83', '21.15',\n",
       "       '29.04', '16', '39.97', '23.23', '16.31', '46.03', '40.12',\n",
       "       '21.09', '14.91', '34.89', '40.94', '33.19', '29.93', '44.99',\n",
       "       '39.08', '30.14', '35.13', '29.28', '15.86', '29.89', '33.9',\n",
       "       '20.97', '25.13', '26.23', '24.84', '31.13', '23.32', '22.67',\n",
       "       '25.24', '29.14', '22.85', '29.06', '20.25', '31.17', '28.23',\n",
       "       '29.08', '25.12', '40.82', '30.2', '29.15', '25.08', '29.78',\n",
       "       '33.82', '23.91', '38.18', '30', '39.32', '29.17', '31.24',\n",
       "       '15.82', '35.82', '21.23', '23.04', '43.06', '16.01', '48.58',\n",
       "       '18.02', '34.97', '28.69', '31.05', '14.97', '18.05', '35.91',\n",
       "       '33.05', '42.96', '23.17', '41.18', '28.26', '29.91', '34.87',\n",
       "       '22.77', '46.01', '36.18', '43.07', '25.52', '32.74', '15.77',\n",
       "       '43.84', '33.43', '37.92', '42.91', '28.75', '15.22', '29.35',\n",
       "       '39.04', '13.02', '29.92', '32.82', '29.53', '46.18', '21.08',\n",
       "       '27.75', '23.15', '18.24', '48', '29.1', '17.93', '26.53', '23.25',\n",
       "       '25.71', '25.35', '32.9', '51.06', '15.08', '33.79', '42.98',\n",
       "       '17.94', '21', '29.79', '45.96', '29.81', '41.16', '40.98',\n",
       "       '20.14', '39.96', '32.89', '25.79'], dtype=object)"
      ]
     },
     "execution_count": 59,
     "metadata": {},
     "output_type": "execute_result"
    }
   ],
   "source": [
    "pet_supplies['price'].unique()"
   ]
  },
  {
   "cell_type": "code",
   "execution_count": 60,
   "metadata": {},
   "outputs": [],
   "source": [
    "pet_supplies['price'].replace('unlisted', '0', inplace=True)\n",
    "pet_supplies['price'] = pet_supplies['price'].astype(float)"
   ]
  },
  {
   "cell_type": "code",
   "execution_count": 61,
   "metadata": {},
   "outputs": [
    {
     "name": "stdout",
     "output_type": "stream",
     "text": [
      "<class 'pandas.core.frame.DataFrame'>\n",
      "RangeIndex: 1500 entries, 0 to 1499\n",
      "Data columns (total 8 columns):\n",
      " #   Column           Non-Null Count  Dtype  \n",
      "---  ------           --------------  -----  \n",
      " 0   product_id       1500 non-null   object \n",
      " 1   category         1500 non-null   object \n",
      " 2   animal           1500 non-null   object \n",
      " 3   size             1500 non-null   object \n",
      " 4   price            1500 non-null   float64\n",
      " 5   sales            1500 non-null   float64\n",
      " 6   rating           1350 non-null   float64\n",
      " 7   repeat_purchase  1500 non-null   int64  \n",
      "dtypes: float64(3), int64(1), object(4)\n",
      "memory usage: 93.9+ KB\n"
     ]
    }
   ],
   "source": [
    "pet_supplies.info()"
   ]
  },
  {
   "cell_type": "code",
   "execution_count": 62,
   "metadata": {},
   "outputs": [
    {
     "data": {
      "text/plain": [
       "count    1500.000000\n",
       "mean       26.481873\n",
       "std        11.472570\n",
       "min         0.000000\n",
       "25%        22.910000\n",
       "50%        27.930000\n",
       "75%        33.142500\n",
       "max        54.160000\n",
       "Name: price, dtype: float64"
      ]
     },
     "execution_count": 62,
     "metadata": {},
     "output_type": "execute_result"
    }
   ],
   "source": [
    "pet_supplies['price'].describe()"
   ]
  },
  {
   "cell_type": "code",
   "execution_count": 63,
   "metadata": {},
   "outputs": [],
   "source": [
    "pet_supplies['price'].replace(0, 27.93, inplace=True)"
   ]
  },
  {
   "cell_type": "code",
   "execution_count": 64,
   "metadata": {},
   "outputs": [],
   "source": [
    "# Converting rating to integers"
   ]
  },
  {
   "cell_type": "code",
   "execution_count": 65,
   "metadata": {},
   "outputs": [
    {
     "data": {
      "text/plain": [
       "array([ 7.,  6.,  5.,  4.,  8.,  1.,  3., nan,  2.,  9.])"
      ]
     },
     "execution_count": 65,
     "metadata": {},
     "output_type": "execute_result"
    }
   ],
   "source": [
    "pet_supplies['rating'].unique()"
   ]
  },
  {
   "cell_type": "code",
   "execution_count": 66,
   "metadata": {},
   "outputs": [],
   "source": [
    "pet_supplies['rating'].replace(np.nan, 0, inplace=True)\n",
    "pet_supplies['rating'] = pet_supplies['rating'].astype(int)"
   ]
  },
  {
   "cell_type": "code",
   "execution_count": 67,
   "metadata": {},
   "outputs": [
    {
     "name": "stdout",
     "output_type": "stream",
     "text": [
      "<class 'pandas.core.frame.DataFrame'>\n",
      "RangeIndex: 1500 entries, 0 to 1499\n",
      "Data columns (total 8 columns):\n",
      " #   Column           Non-Null Count  Dtype  \n",
      "---  ------           --------------  -----  \n",
      " 0   product_id       1500 non-null   object \n",
      " 1   category         1500 non-null   object \n",
      " 2   animal           1500 non-null   object \n",
      " 3   size             1500 non-null   object \n",
      " 4   price            1500 non-null   float64\n",
      " 5   sales            1500 non-null   float64\n",
      " 6   rating           1500 non-null   int32  \n",
      " 7   repeat_purchase  1500 non-null   object \n",
      "dtypes: float64(2), int32(1), object(5)\n",
      "memory usage: 88.0+ KB\n"
     ]
    }
   ],
   "source": [
    "# Converting 'repeat_purchase' column to string\n",
    "pet_supplies['repeat_purchase'] = pet_supplies['repeat_purchase'].astype(str)\n",
    "pet_supplies.info()"
   ]
  },
  {
   "cell_type": "code",
   "execution_count": 68,
   "metadata": {},
   "outputs": [
    {
     "data": {
      "text/plain": [
       "array(['Food', 'Housing', 'Medicine', 'Toys', 'Equipment', 'Accessory',\n",
       "       '-'], dtype=object)"
      ]
     },
     "execution_count": 68,
     "metadata": {},
     "output_type": "execute_result"
    }
   ],
   "source": [
    "pet_supplies['category'].unique()"
   ]
  },
  {
   "cell_type": "code",
   "execution_count": 69,
   "metadata": {},
   "outputs": [],
   "source": [
    "pet_supplies['category'].replace('-', 'Unknown', inplace=True)"
   ]
  },
  {
   "cell_type": "markdown",
   "metadata": {},
   "source": [
    "Data limpiada guardada como .csv file"
   ]
  },
  {
   "cell_type": "code",
   "execution_count": 70,
   "metadata": {},
   "outputs": [],
   "source": [
    "pet_supplies.to_csv('pet_supp_clean.csv')"
   ]
  },
  {
   "cell_type": "markdown",
   "metadata": {},
   "source": [
    "Pregunta 1 ¿Qué categoría de la variable 'repeat_purchase' tiene más observaciones?"
   ]
  },
  {
   "cell_type": "code",
   "execution_count": 71,
   "metadata": {},
   "outputs": [
    {
     "data": {
      "image/png": "[encoded data removed]",
      "text/plain": [
       "<Figure size 640x480 with 1 Axes>"
      ]
     },
     "metadata": {},
     "output_type": "display_data"
    }
   ],
   "source": [
    "main_color = sns.color_palette()[0]\n",
    "# plotting the data\n",
    "sns.countplot(data=pet_supplies, x='repeat_purchase', color=main_color)\n",
    "plt.title(\"Distribution of Repeat Purchases\")\n",
    "plt.xlabel(\"Categories\")\n",
    "plt.ylabel(\"Number of purchases\")\n",
    "plt.show()"
   ]
  },
  {
   "cell_type": "markdown",
   "metadata": {},
   "source": [
    "Pregunta 2: Chequea si las observaciones están balanceadas en la categoría de 'repeat_purchases'"
   ]
  },
  {
   "cell_type": "code",
   "execution_count": 72,
   "metadata": {},
   "outputs": [
    {
     "name": "stdout",
     "output_type": "stream",
     "text": [
      "<class 'pandas.core.frame.DataFrame'>\n",
      "Index: 906 entries, 0 to 1499\n",
      "Data columns (total 8 columns):\n",
      " #   Column           Non-Null Count  Dtype  \n",
      "---  ------           --------------  -----  \n",
      " 0   product_id       906 non-null    object \n",
      " 1   category         906 non-null    object \n",
      " 2   animal           906 non-null    object \n",
      " 3   size             906 non-null    object \n",
      " 4   price            906 non-null    float64\n",
      " 5   sales            906 non-null    float64\n",
      " 6   rating           906 non-null    int32  \n",
      " 7   repeat_purchase  906 non-null    object \n",
      "dtypes: float64(2), int32(1), object(5)\n",
      "memory usage: 60.2+ KB\n"
     ]
    }
   ],
   "source": [
    "new_pet = pet_supplies.loc[pet_supplies['repeat_purchase'] == '1']\n",
    "new_pet.info()"
   ]
  },
  {
   "cell_type": "code",
   "execution_count": 73,
   "metadata": {},
   "outputs": [
    {
     "data": {
      "image/png": "[encoded data removed]",
      "text/plain": [
       "<Figure size 640x480 with 1 Axes>"
      ]
     },
     "metadata": {},
     "output_type": "display_data"
    }
   ],
   "source": [
    "# Plotting the data\n",
    "sns.countplot(data=new_pet, y='category', color=main_color)\n",
    "plt.title(\"Distribution of Categories of Repeat Purchases\")\n",
    "plt.xlabel(\"Categories\")\n",
    "plt.ylabel(\"Number of purchases made\")\n",
    "plt.show()"
   ]
  },
  {
   "cell_type": "markdown",
   "metadata": {},
   "source": [
    "Las categorías no están distribuidas de manera uniforme entre las compras repetidas. Los equipos son los más comprados repetidamente, seguidos por alimentos, medicamentos, vivienda y juguetes. La categoría desconocida es la menos comprada."
   ]
  },
  {
   "cell_type": "markdown",
   "metadata": {},
   "source": [
    "Tarea 3: Describe la distribución de todas las ventas"
   ]
  },
  {
   "cell_type": "code",
   "execution_count": 74,
   "metadata": {},
   "outputs": [
    {
     "data": {
      "image/png": "[encoded data removed]",
      "text/plain": [
       "<Figure size 640x480 with 1 Axes>"
      ]
     },
     "metadata": {},
     "output_type": "display_data"
    }
   ],
   "source": [
    "# Plotting the data\n",
    "sns.boxplot(data=pet_supplies['sales'])\n",
    "plt.title('Distribution of overall sales')\n",
    "plt.show()"
   ]
  },
  {
   "cell_type": "markdown",
   "metadata": {},
   "source": [
    "Las ventas mínimas rondaron los 250, mientras que las máximas llegaron a unos 1750, con algunos valores atípicos por encima del máximo. La mediana de ventas se sitúa en aproximadamente 1000."
   ]
  },
  {
   "cell_type": "markdown",
   "metadata": {},
   "source": [
    "Tarea 4: Describe la relación entre 'repeat_purchases' and 'sales'"
   ]
  },
  {
   "cell_type": "code",
   "execution_count": 75,
   "metadata": {},
   "outputs": [
    {
     "data": {
      "image/png": "[encoded data removed]",
      "text/plain": [
       "<Figure size 640x480 with 1 Axes>"
      ]
     },
     "metadata": {},
     "output_type": "display_data"
    }
   ],
   "source": [
    "# Plotting the data\n",
    "sns.violinplot(data=pet_supplies, x='repeat_purchase', y='sales', color=main_color, inner='quartile')\n",
    "plt.title('Relationship between repeat purchases and sales')\n",
    "plt.xlabel('Repeat purchases')\n",
    "plt.ylabel('Sales')\n",
    "plt.show()\n"
   ]
  },
  {
   "cell_type": "markdown",
   "metadata": {},
   "source": [
    "Las ventas se distribuyen de manera similar entre las compras repetidas y las compras únicas"
   ]
  }
 ],
 "metadata": {
  "kernelspec": {
   "display_name": "Python 3",
   "language": "python",
   "name": "python3"
  },
  "language_info": {
   "codemirror_mode": {
    "name": "ipython",
    "version": 3
   },
   "file_extension": ".py",
   "mimetype": "text/x-python",
   "name": "python",
   "nbconvert_exporter": "python",
   "pygments_lexer": "ipython3",
   "version": "3.11.4"
  }
 },
 "nbformat": 4,
 "nbformat_minor": 2
}
